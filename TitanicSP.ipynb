{
  "nbformat": 4,
  "nbformat_minor": 0,
  "metadata": {
    "colab": {
      "private_outputs": true,
      "provenance": [],
      "authorship_tag": "ABX9TyNtHT5QvY/sQ1bzo+WzgeHv",
      "include_colab_link": true
    },
    "kernelspec": {
      "name": "python3",
      "display_name": "Python 3"
    },
    "language_info": {
      "name": "python"
    }
  },
  "cells": [
    {
      "cell_type": "markdown",
      "metadata": {
        "id": "view-in-github",
        "colab_type": "text"
      },
      "source": [
        "<a href=\"https://colab.research.google.com/github/ameer7373/titainc-prediction/blob/main/TitanicSP.ipynb\" target=\"_parent\"><img src=\"https://colab.research.google.com/assets/colab-badge.svg\" alt=\"Open In Colab\"/></a>"
      ]
    },
    {
      "cell_type": "code",
      "execution_count": null,
      "metadata": {
        "id": "IHDeofwJtQyk"
      },
      "outputs": [],
      "source": [
        "!pip install pandas"
      ]
    },
    {
      "cell_type": "code",
      "source": [
        "import matplotlib.pyplot as plt"
      ],
      "metadata": {
        "id": "ymDT1X8Zvbz1"
      },
      "execution_count": null,
      "outputs": []
    },
    {
      "cell_type": "code",
      "source": [
        "import pandas as pd"
      ],
      "metadata": {
        "id": "iKaSUB43uhIR"
      },
      "execution_count": null,
      "outputs": []
    },
    {
      "cell_type": "code",
      "source": [
        "from google.colab import drive\n",
        "drive.mount('/content/drive')"
      ],
      "metadata": {
        "id": "bcPV0Uv0tjHP"
      },
      "execution_count": null,
      "outputs": []
    },
    {
      "cell_type": "code",
      "source": [
        "import warnings\n",
        "import numpy as np\n",
        "import pandas as pd\n",
        "import matplotlib.pyplot as plt\n",
        "import seaborn as sns\n",
        "plt.style.use('fivethirtyeight')\n",
        "%matplotlib inline\n",
        "warnings.filterwarnings('ignore')\n"
      ],
      "metadata": {
        "id": "MpBaX2HItm0R"
      },
      "execution_count": null,
      "outputs": []
    },
    {
      "cell_type": "code",
      "source": [
        "train = pd.read_csv('/content/train.csv')\n",
        "test = pd.read_csv('/content/test.csv')\n",
        "\n",
        "\n",
        "train.shape\n",
        "\n"
      ],
      "metadata": {
        "id": "oaz24UL5txIX"
      },
      "execution_count": null,
      "outputs": []
    },
    {
      "cell_type": "code",
      "source": [
        "train.info()\n"
      ],
      "metadata": {
        "id": "xvDPVwIjuazq"
      },
      "execution_count": null,
      "outputs": []
    },
    {
      "cell_type": "code",
      "source": [
        "train.isnull().sum()\n"
      ],
      "metadata": {
        "id": "Wmc3kul4vNp3"
      },
      "execution_count": null,
      "outputs": []
    },
    {
      "cell_type": "code",
      "source": [
        "import seaborn as sns"
      ],
      "metadata": {
        "id": "0so-yhGV0VcH"
      },
      "execution_count": null,
      "outputs": []
    },
    {
      "cell_type": "code",
      "source": [
        "sns.countplot(x='Sex', hue='Survived', data=train, ax=ax[1])"
      ],
      "metadata": {
        "id": "7WMRlAoG0aye"
      },
      "execution_count": null,
      "outputs": []
    },
    {
      "cell_type": "code",
      "source": [
        "import matplotlib.pyplot as plt\n",
        "import seaborn as sns\n",
        "\n",
        "f, ax = plt.subplots(1, 2, figsize=(12, 4))\n",
        "train['Survived'].value_counts().plot.pie(\n",
        "    explode=[0, 0.1], autopct='%1.1f%%', ax=ax[0], shadow=False)\n",
        "ax[0].set_title('Survivors (1) and the dead (0)')\n",
        "ax[0].set_ylabel('')\n",
        "sns.countplot(x='Survived', data=train, ax=ax[1])\n",
        "ax[1].set_ylabel('Quantity')\n",
        "ax[1].set_title('Survivors (1) and the dead (0)')\n",
        "plt.show()"
      ],
      "metadata": {
        "id": "Sh5m4NSpvRO1"
      },
      "execution_count": null,
      "outputs": []
    },
    {
      "cell_type": "code",
      "source": [
        "f, ax = plt.subplots(1, 2, figsize=(12, 4))\n",
        "train[['Sex', 'Survived']].groupby(['Sex']).mean().plot.bar(ax=ax[0])\n",
        "ax[0].set_title('Survivors by sex')\n",
        "sns.countplot('Sex', hue='Survived', data=train, ax=ax[1])\n",
        "ax[1].set_ylabel('Quantity')\n",
        "ax[1].set_title('Survived (1) and deceased (0): men and women')\n",
        "plt.show()\n"
      ],
      "metadata": {
        "id": "8tqXZBTmwLZQ"
      },
      "execution_count": null,
      "outputs": []
    },
    {
      "source": [
        "print(train.head())\n",
        "print(test.head())"
      ],
      "cell_type": "code",
      "metadata": {
        "id": "b8hIwdsD0sp4"
      },
      "execution_count": null,
      "outputs": []
    },
    {
      "source": [
        "print(train.isnull().sum())\n",
        "print(test.isnull().sum())"
      ],
      "cell_type": "code",
      "metadata": {
        "id": "ZBQ0bZDm0vQh"
      },
      "execution_count": null,
      "outputs": []
    },
    {
      "source": [
        "print(train.columns)\n",
        "print(test.columns)"
      ],
      "cell_type": "code",
      "metadata": {
        "id": "2d62sx8U0xjH"
      },
      "execution_count": null,
      "outputs": []
    },
    {
      "source": [
        "# Create a new column cabinbool indicating\n",
        "# if the cabin value was given or was NaN\n",
        "train = train.drop(['Cabin'], axis=1)\n",
        "test = test.drop(['Cabin'], axis=1)\n",
        "\n",
        "# Drop the column 'Cabin' from test and train dataset\n",
        "train = train.drop(['Cabin'], axis=1)\n",
        "test = test.drop(['Cabin'], axis=1)"
      ],
      "cell_type": "code",
      "metadata": {
        "id": "p3RwXper025S"
      },
      "execution_count": null,
      "outputs": []
    },
    {
      "source": [
        "train.columns"
      ],
      "cell_type": "code",
      "metadata": {
        "id": "SkJhWzLS1R5O"
      },
      "execution_count": null,
      "outputs": []
    },
    {
      "cell_type": "code",
      "source": [
        "train = train.drop(['Ticket'], axis=1)\n",
        "test = test.drop(['Ticket'], axis=1)\n"
      ],
      "metadata": {
        "id": "3GAS3NVk1XmI"
      },
      "execution_count": null,
      "outputs": []
    },
    {
      "cell_type": "code",
      "source": [
        "# replacing the missing values in\n",
        "# the Embarked feature with S\n",
        "train = train.fillna({\"Embarked\": \"S\"})\n"
      ],
      "metadata": {
        "id": "f1aFeFxp1anC"
      },
      "execution_count": null,
      "outputs": []
    },
    {
      "cell_type": "code",
      "source": [
        "# sort the ages into logical categories\n",
        "train[\"Age\"] = train[\"Age\"].fillna(-0.5)\n",
        "test[\"Age\"] = test[\"Age\"].fillna(-0.5)\n",
        "bins = [-1, 0, 5, 12, 18, 24, 35, 60, np.inf]\n",
        "labels = ['Unknown', 'Baby', 'Child', 'Teenager',\n",
        "\t\t'Student', 'Young Adult', 'Adult', 'Senior']\n",
        "train['AgeGroup'] = pd.cut(train[\"Age\"], bins, labels=labels)\n",
        "test['AgeGroup'] = pd.cut(test[\"Age\"], bins, labels=labels)\n"
      ],
      "metadata": {
        "id": "ch9UAzmH1dLW"
      },
      "execution_count": null,
      "outputs": []
    },
    {
      "cell_type": "code",
      "source": [
        "# create a combined group of both datasets\n",
        "combine = [train, test]\n",
        "\n",
        "# extract a title for each Name in the\n",
        "# train and test datasets\n",
        "for dataset in combine:\n",
        "\tdataset['Title'] = dataset.Name.str.extract(' ([A-Za-z]+)\\.', expand=False)\n",
        "\n",
        "pd.crosstab(train['Title'], train['Sex'])\n",
        "\n",
        "# replace various titles with more common names\n",
        "for dataset in combine:\n",
        "\tdataset['Title'] = dataset['Title'].replace(['Lady', 'Capt', 'Col',\n",
        "\t\t\t\t\t\t\t\t\t\t\t\t'Don', 'Dr', 'Major',\n",
        "\t\t\t\t\t\t\t\t\t\t\t\t'Rev', 'Jonkheer', 'Dona'],\n",
        "\t\t\t\t\t\t\t\t\t\t\t\t'Rare')\n",
        "\n",
        "\tdataset['Title'] = dataset['Title'].replace(\n",
        "\t\t['Countess', 'Lady', 'Sir'], 'Royal')\n",
        "\tdataset['Title'] = dataset['Title'].replace('Mlle', 'Miss')\n",
        "\tdataset['Title'] = dataset['Title'].replace('Ms', 'Miss')\n",
        "\tdataset['Title'] = dataset['Title'].replace('Mme', 'Mrs')\n",
        "\n",
        "train[['Title', 'Survived']].groupby(['Title'], as_index=False).mean()\n",
        "\n",
        "# map each of the title groups to a numerical value\n",
        "title_mapping = {\"Mr\": 1, \"Miss\": 2, \"Mrs\": 3,\n",
        "\t\t\t\t\"Master\": 4, \"Royal\": 5, \"Rare\": 6}\n",
        "for dataset in combine:\n",
        "\tdataset['Title'] = dataset['Title'].map(title_mapping)\n",
        "\tdataset['Title'] = dataset['Title'].fillna(0)\n"
      ],
      "metadata": {
        "id": "a1iAqffF1gxn"
      },
      "execution_count": null,
      "outputs": []
    },
    {
      "cell_type": "code",
      "source": [
        "mr_age = train[train[\"Title\"] == 1][\"AgeGroup\"].mode() # Young Adult\n",
        "miss_age = train[train[\"Title\"] == 2][\"AgeGroup\"].mode() # Student\n",
        "mrs_age = train[train[\"Title\"] == 3][\"AgeGroup\"].mode() # Adult\n",
        "master_age = train[train[\"Title\"] == 4][\"AgeGroup\"].mode() # Baby\n",
        "royal_age = train[train[\"Title\"] == 5][\"AgeGroup\"].mode() # Adult\n",
        "rare_age = train[train[\"Title\"] == 6][\"AgeGroup\"].mode() # Adult\n",
        "\n",
        "age_title_mapping = {1: \"Young Adult\", 2: \"Student\",\n",
        "\t\t\t\t\t3: \"Adult\", 4: \"Baby\", 5: \"Adult\", 6: \"Adult\"}\n",
        "\n",
        "for x in range(len(train[\"AgeGroup\"])):\n",
        "\tif train[\"AgeGroup\"][x] == \"Unknown\":\n",
        "\t\ttrain[\"AgeGroup\"][x] = age_title_mapping[train[\"Title\"][x]]\n",
        "\n",
        "for x in range(len(test[\"AgeGroup\"])):\n",
        "\tif test[\"AgeGroup\"][x] == \"Unknown\":\n",
        "\t\ttest[\"AgeGroup\"][x] = age_title_mapping[test[\"Title\"][x]]\n"
      ],
      "metadata": {
        "id": "lwtaegAt1kYQ"
      },
      "execution_count": null,
      "outputs": []
    },
    {
      "cell_type": "code",
      "source": [
        "# map each Age value to a numerical value\n",
        "age_mapping = {'Baby': 1, 'Child': 2, 'Teenager': 3,\n",
        "\t\t\t'Student': 4, 'Young Adult': 5, 'Adult': 6,\n",
        "\t\t\t'Senior': 7}\n",
        "train['AgeGroup'] = train['AgeGroup'].map(age_mapping)\n",
        "test['AgeGroup'] = test['AgeGroup'].map(age_mapping)\n",
        "\n",
        "train.head()\n",
        "\n",
        "# dropping the Age feature for now, might change\n",
        "train = train.drop(['Age'], axis=1)\n",
        "test = test.drop(['Age'], axis=1)\n"
      ],
      "metadata": {
        "id": "p6W4-i-S1oa2"
      },
      "execution_count": null,
      "outputs": []
    },
    {
      "cell_type": "code",
      "source": [
        "train = train.drop(['Name'], axis=1)\n",
        "test = test.drop(['Name'], axis=1)\n"
      ],
      "metadata": {
        "id": "TopWVqwp1sBJ"
      },
      "execution_count": null,
      "outputs": []
    },
    {
      "cell_type": "code",
      "source": [
        "sex_mapping = {\"male\": 0, \"female\": 1}\n",
        "train['Sex'] = train['Sex'].map(sex_mapping)\n",
        "test['Sex'] = test['Sex'].map(sex_mapping)\n",
        "\n",
        "embarked_mapping = {\"S\": 1, \"C\": 2, \"Q\": 3}\n",
        "train['Embarked'] = train['Embarked'].map(embarked_mapping)\n",
        "test['Embarked'] = test['Embarked'].map(embarked_mapping)\n"
      ],
      "metadata": {
        "id": "cCsvUPmM1vLY"
      },
      "execution_count": null,
      "outputs": []
    },
    {
      "cell_type": "code",
      "source": [
        "for x in range(len(test[\"Fare\"])):\n",
        "\tif pd.isnull(test[\"Fare\"][x]):\n",
        "\t\tpclass = test[\"Pclass\"][x] # Pclass = 3\n",
        "\t\ttest[\"Fare\"][x] = round(\n",
        "\t\t\ttrain[train[\"Pclass\"] == pclass][\"Fare\"].mean(), 4)\n",
        "\n",
        "# map Fare values into groups of\n",
        "# numerical values\n",
        "train['FareBand'] = pd.qcut(train['Fare'], 4,\n",
        "\t\t\t\t\t\t\tlabels=[1, 2, 3, 4])\n",
        "test['FareBand'] = pd.qcut(test['Fare'], 4,\n",
        "\t\t\t\t\t\tlabels=[1, 2, 3, 4])\n",
        "\n",
        "# drop Fare values\n",
        "train = train.drop(['Fare'], axis=1)\n",
        "test = test.drop(['Fare'], axis=1)\n"
      ],
      "metadata": {
        "id": "zj3srnpz1yYU"
      },
      "execution_count": null,
      "outputs": []
    },
    {
      "cell_type": "code",
      "source": [
        "from sklearn.model_selection import train_test_split\n",
        "\n",
        "# Drop the Survived and PassengerId\n",
        "# column from the trainset\n",
        "predictors = train.drop(['Survived', 'PassengerId'], axis=1)\n",
        "target = train[\"Survived\"]\n",
        "x_train, x_val, y_train, y_val = train_test_split(\n",
        "\tpredictors, target, test_size=0.2, random_state=0)\n"
      ],
      "metadata": {
        "id": "nJZFRk6k3uoO"
      },
      "execution_count": null,
      "outputs": []
    },
    {
      "cell_type": "code",
      "source": [
        "from sklearn.ensemble import RandomForestClassifier\n",
        "from sklearn.metrics import accuracy_score\n",
        "\n",
        "randomforest = RandomForestClassifier()\n",
        "\n",
        "# Fit the training data along with its output\n",
        "randomforest.fit(x_train, y_train)\n",
        "y_pred = randomforest.predict(x_val)\n",
        "\n",
        "# Find the accuracy score of the model\n",
        "acc_randomforest = round(accuracy_score(y_pred, y_val) * 100, 2)\n",
        "print(acc_randomforest)\n"
      ],
      "metadata": {
        "id": "U9yiInU83zWC"
      },
      "execution_count": null,
      "outputs": []
    },
    {
      "cell_type": "code",
      "source": [
        "ids = test['PassengerId']\n",
        "predictions = randomforest.predict(test.drop('PassengerId', axis=1))\n",
        "\n",
        "# set the output as a dataframe and convert\n",
        "# to csv file named resultfile.csv\n",
        "output = pd.DataFrame({'PassengerId': ids, 'Survived': predictions})\n",
        "output.to_csv('/content/resultfile.csv', index=False)\n",
        "\n"
      ],
      "metadata": {
        "id": "JizsYZ-W33kX"
      },
      "execution_count": null,
      "outputs": []
    }
  ]
}